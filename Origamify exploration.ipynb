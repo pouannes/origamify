{
 "cells": [
  {
   "cell_type": "code",
   "execution_count": 1,
   "id": "7719fc40",
   "metadata": {},
   "outputs": [],
   "source": [
    "%matplotlib inline"
   ]
  },
  {
   "cell_type": "code",
   "execution_count": 3,
   "id": "32d9d308",
   "metadata": {},
   "outputs": [],
   "source": [
    "import matplotlib.pyplot as plt\n",
    "import matplotlib.image as mpimg\n",
    "import matplotlib.patches as patches\n",
    "from PIL import Image\n",
    "import numpy as np"
   ]
  },
  {
   "cell_type": "markdown",
   "id": "7188b3a1",
   "metadata": {},
   "source": [
    "Draw base image"
   ]
  },
  {
   "cell_type": "code",
   "execution_count": 94,
   "id": "83e1b7af",
   "metadata": {},
   "outputs": [],
   "source": [
    "def draw_rectangle(array, x, y, w, h):\n",
    "    width, height = array.shape\n",
    "    for i in range(width):\n",
    "        for j in range(height):\n",
    "            if (i > x - h / 2 and i < x + h /2  and j > y - w / 2 and j < y + w / 2):\n",
    "                array[i, j] = 1\n",
    "    return array\n",
    "\n",
    "def draw_circle(array, x, y, r):\n",
    "    width, height = array.shape\n",
    "    for i in range(width):\n",
    "        for j in range(height):\n",
    "            if ((x - i)**2 + (y - j)**2 < r**2):\n",
    "                array[i, j] = 1\n",
    "    return array"
   ]
  },
  {
   "cell_type": "code",
   "execution_count": 107,
   "id": "9684007e",
   "metadata": {
    "scrolled": false
   },
   "outputs": [
    {
     "data": {
      "image/png": "[encoded data removed]",
      "text/plain": [
       "<Figure size 864x864 with 1 Axes>"
      ]
     },
     "metadata": {
      "needs_background": "light"
     },
     "output_type": "display_data"
    }
   ],
   "source": [
    "img = np.zeros((256, 256), dtype=np.uint8)\n",
    "\n",
    "img = draw_circle(img, 80, 50, 30)\n",
    "img = draw_rectangle(img, 128, 128, 150, 80)\n",
    "img = draw_rectangle(img, 200, 80, 30, 80)\n",
    "img = draw_rectangle(img, 200, 80, 30, 80)\n",
    "img = draw_rectangle(img, 200, 170, 30, 80)\n",
    "\n",
    "plt.figure(figsize=(12,12))\n",
    "imgplot = plt.imshow(img)"
   ]
  },
  {
   "cell_type": "code",
   "execution_count": null,
   "id": "bc5ba876",
   "metadata": {},
   "outputs": [],
   "source": []
  },
  {
   "cell_type": "code",
   "execution_count": null,
   "id": "b4021eeb",
   "metadata": {},
   "outputs": [],
   "source": []
  }
 ],
 "metadata": {
  "kernelspec": {
   "display_name": "Python 3",
   "language": "python",
   "name": "python3"
  },
  "language_info": {
   "codemirror_mode": {
    "name": "ipython",
    "version": 3
   },
   "file_extension": ".py",
   "mimetype": "text/x-python",
   "name": "python",
   "nbconvert_exporter": "python",
   "pygments_lexer": "ipython3",
   "version": "3.8.8"
  }
 },
 "nbformat": 4,
 "nbformat_minor": 5
}
